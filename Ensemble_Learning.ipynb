{
  "nbformat": 4,
  "nbformat_minor": 0,
  "metadata": {
    "colab": {
      "provenance": []
    },
    "kernelspec": {
      "name": "python3",
      "display_name": "Python 3"
    },
    "language_info": {
      "name": "python"
    }
  },
  "cells": [
    {
      "cell_type": "markdown",
      "source": [
        "# **Ensemble Learning Assignment**"
      ],
      "metadata": {
        "id": "MwfNGMbMCXKJ"
      }
    },
    {
      "cell_type": "markdown",
      "source": [
        "# **Theoretical Questions**"
      ],
      "metadata": {
        "id": "YijHVrU0Cd0t"
      }
    },
    {
      "cell_type": "markdown",
      "source": [
        "Q1.  Can we use Bagging for regression problems?\n",
        "- Yes, Bagging (Bootstrap Aggregating) can be used for regression problems as well as classification. In regression, bagging helps reduce variance and improve the robustness of predictions."
      ],
      "metadata": {
        "id": "G_KwszIBChxY"
      }
    },
    {
      "cell_type": "markdown",
      "source": [
        "Q2. What is the difference between multiple model training and single model training?\n",
        "- Multiple Model Training = Single model training involves training one machine learning model on a given dataset to make predictions. It is straightforward, requires fewer computational resources, and is easier to interpret, but it may suffer from biases, overfitting, or underfitting depending on the complexity of the problem.\n",
        "- Single Model Training = Multiple model training involves training multiple models either independently or in combination to improve performance, such as in ensemble methods like Bagging, Boosting, or Stacking. This approach enhances robustness, reduces variance, and improves generalization by leveraging the strengths of different models, but it comes with increased computational cost and complexity."
      ],
      "metadata": {
        "id": "LWyin9IrCkpG"
      }
    },
    {
      "cell_type": "markdown",
      "source": [
        "Q3. Explain the concept of feature randomness in Random Forest.\n",
        "- Feature randomness in Random Forest refers to the process of selecting a random subset of features at each split when building individual decision trees. This helps in reducing overfitting and improving model generalization."
      ],
      "metadata": {
        "id": "6BVIyApaCpHN"
      }
    },
    {
      "cell_type": "markdown",
      "source": [
        "Q4. What is OOB (Out-of-Bag) Score?\n",
        "- The Out-of-Bag (OOB) Score is an internal validation technique used in Random Forest to estimate the model's performance without needing a separate validation set. It helps in assessing the model’s accuracy and generalization ability while saving computational resources."
      ],
      "metadata": {
        "id": "k50YyWWiCr_Z"
      }
    },
    {
      "cell_type": "markdown",
      "source": [
        "Q5. How can you measure the importance of features in a Random Forest model?\n",
        "- Feature importance in a Random Forest model helps in understanding which features contribute the most to predictions. Random Forest provides built-in methods to calculate feature importance, allowing us to analyze and optimize models effectively."
      ],
      "metadata": {
        "id": "3a962sVBCvOm"
      }
    },
    {
      "cell_type": "markdown",
      "source": [
        "Q6. Explain the working principle of a Bagging Classifier?\n",
        "- A Bagging Classifier (Bootstrap Aggregating) is an ensemble learning method that improves classification performance by reducing variance and overfitting. It works by training multiple weak classifiers on different subsets of the training data and combining their predictions to produce a more robust final output."
      ],
      "metadata": {
        "id": "vZ5YgyRmCxnL"
      }
    },
    {
      "cell_type": "markdown",
      "source": [
        "Q7. How do you evaluate a Bagging Classifier’s performance?\n",
        "- Evaluating a Bagging Classifier involves measuring its accuracy, generalization, and robustness using various metrics and validation techniques. Since bagging is an ensemble method, performance evaluation should consider both individual model accuracy and overall ensemble effectiveness."
      ],
      "metadata": {
        "id": "2AFg4H8_C2hg"
      }
    },
    {
      "cell_type": "markdown",
      "source": [
        "Q8. How does a Bagging Regressor work?\n",
        "- A Bagging Regressor is an ensemble learning technique that improves the accuracy and stability of regression models by training multiple weak regressors on different subsets of the data and combining their predictions. It is particularly useful for reducing variance and preventing overfitting in high-variance models like Decision Trees."
      ],
      "metadata": {
        "id": "1u7ezGzKC7Hk"
      }
    },
    {
      "cell_type": "markdown",
      "source": [
        "Q9. What is the main advantage of ensemble techniques?\n",
        "- The primary advantage of ensemble techniques is that they significantly improve model accuracy, robustness, and generalization by combining multiple models. Instead of relying on a single weak learner, ensembles aggregate predictions from multiple models to reduce errors and improve performance."
      ],
      "metadata": {
        "id": "H-wShpAsC9tt"
      }
    },
    {
      "cell_type": "markdown",
      "source": [
        "Q10. What is the main challenge of ensemble methods?\n",
        "- The primary challenge of ensemble methods is the trade-off between accuracy and complexity. While ensemble techniques like Bagging, Boosting, and Stacking improve prediction performance by combining multiple models, they introduce several difficulties, including:\n",
        "- Increased Computational Cost\n",
        "- Difficult Interpretability\n",
        "- Risk of Overfitting\n",
        "- Hyperparameter Tuning Complexity"
      ],
      "metadata": {
        "id": "aSALMPwGDH8N"
      }
    },
    {
      "cell_type": "markdown",
      "source": [
        "Q11. Explain the key idea behind ensemble techniques.\n",
        "- The fundamental idea behind ensemble techniques is to combine multiple models to achieve better performance than a single model. Instead of relying on a single weak learner, ensemble methods aggregate multiple models to reduce errors, improve accuracy, and enhance generalization."
      ],
      "metadata": {
        "id": "Hj1WzQSZDLFH"
      }
    },
    {
      "cell_type": "markdown",
      "source": [
        "Q12. What is a Random Forest Classifier?\n",
        "- A Random Forest Classifier is an ensemble learning method that builds multiple Decision Trees and combines their predictions to improve accuracy and reduce overfitting. It is a type of Bagging (Bootstrap Aggregating) technique where multiple Decision Trees are trained on random subsets of the dataset, and their outputs are aggregated to make the final prediction."
      ],
      "metadata": {
        "id": "CMb4SSHqDNse"
      }
    },
    {
      "cell_type": "markdown",
      "source": [
        "Q13. What are the main types of ensemble techniques?\n",
        "- Ensemble techniques are categorized based on how they combine multiple models to improve accuracy and generalization. The three main types of ensemble methods are Bagging, Boosting, and Stacking."
      ],
      "metadata": {
        "id": "Vetyq4cWDQR5"
      }
    },
    {
      "cell_type": "markdown",
      "source": [
        "Q14. What is ensemble learning in machine learning?\n",
        "- Ensemble learning is a technique in machine learning where multiple models (weak learners) are combined to improve overall accuracy, stability, and generalization. Instead of relying on a single model, ensemble methods aggregate multiple models to produce a stronger and more reliable prediction."
      ],
      "metadata": {
        "id": "-wPDBp_2DTJE"
      }
    },
    {
      "cell_type": "markdown",
      "source": [
        "Q15. When should we avoid using ensemble methods?\n",
        "- While ensemble methods improve accuracy and generalization, they are not always the best choice. Below are some scenarios where ensemble techniques should be avoided:\n",
        "- When the Dataset is Small\n",
        "- When Model Interpretability is Important\n",
        "- When Computational Resources are Limited\n",
        "- When the Model Shows No Significant Improvement\n",
        "- When the Problem is Simple"
      ],
      "metadata": {
        "id": "O4MesOvZDVea"
      }
    },
    {
      "cell_type": "markdown",
      "source": [
        "Q16.  How does Bagging help in reducing overfitting?\n",
        "- Bagging (Bootstrap Aggregating) is an ensemble technique that helps reduce overfitting by training multiple models on different random subsets of the data and then averaging their predictions (for regression) or using majority voting (for classification).\n",
        "- Bagging Reduces Overfitting by - Reduces Variance, Bootstrapping (Random Sampling), Random Feature Selection, Smoothens Predictions."
      ],
      "metadata": {
        "id": "cNsi5LhoDYEQ"
      }
    },
    {
      "cell_type": "markdown",
      "source": [
        "Q17. Why is Random Forest better than a single Decision Tree?\n",
        "- A Random Forest is a collection of multiple Decision Trees, and it significantly outperforms a single Decision Tree in terms of accuracy, stability, and generalization. Here’s why:\n",
        "- Reduces Overfitting (Lower Variance)\n",
        "- More Accurate and Robust\n",
        "- Handles Missing Data and Noisy Data Better\n",
        "- Random Feature Selection\n",
        "- More Generalized for Unseen Data"
      ],
      "metadata": {
        "id": "Da2OdBaODaj3"
      }
    },
    {
      "cell_type": "markdown",
      "source": [
        "Q18. What is the role of bootstrap sampling in Bagging?\n",
        "- Bootstrap sampling is a key technique in Bagging (Bootstrap Aggregating) that helps create diverse training datasets for multiple models, improving stability and reducing overfitting."
      ],
      "metadata": {
        "id": "QmNIHXGEDdGs"
      }
    },
    {
      "cell_type": "markdown",
      "source": [
        "Q19. What are some real-world applications of ensemble techniques?\n",
        "- Ensemble techniques like Bagging, Boosting, and Stacking are widely used across industries due to their ability to improve accuracy, reduce overfitting, and enhance model stability. Here are some key real-world applications:\n",
        "- Fraud Detection\n",
        "- Medical Diagnosis & Disease Prediction\n",
        "- Recommendation Systems\n",
        "- Image & Object Recognition\n",
        "- Stock Market Prediction\n",
        "- Spam Detection\n",
        "- Customer Churn Prediction\n",
        "- Autonomous Vehicles"
      ],
      "metadata": {
        "id": "GMwrDJwkDg-Z"
      }
    },
    {
      "cell_type": "markdown",
      "source": [
        "Q20. What is the difference between Bagging and Boosting?\n",
        "- Bagging (Bootstrap Aggregating) and Boosting are both ensemble learning techniques, but they work differently to improve model performance. Bagging aims to reduce variance by training multiple models independently on different random subsets of the dataset, using bootstrap sampling (sampling with replacement). These models are then combined using majority voting (for classification) or averaging (for regression). This technique prevents overfitting and improves stability, making it ideal for high-variance models like Decision Trees. A popular example of Bagging is Random Forest, which trains multiple Decision Trees in parallel and aggregates their outputs.\n",
        "-  Boosting is designed to reduce bias by training models sequentially, where each new model focuses on correcting the errors made by previous models. It assigns higher weights to misclassified instances, ensuring that subsequent models learn from these mistakes. Boosting builds a strong model from several weak models and is commonly used when a model suffers from high bias (underfitting). Examples of Boosting techniques include AdaBoost, Gradient Boosting, and XGBoost, which are widely used in competitive machine learning tasks due to their high accuracy."
      ],
      "metadata": {
        "id": "0IHJW1IjDjmr"
      }
    },
    {
      "cell_type": "markdown",
      "source": [
        "# **Practical Questions**"
      ],
      "metadata": {
        "id": "sqPb_-7cGPfs"
      }
    },
    {
      "cell_type": "code",
      "source": [
        "# Q21. Train a Bagging Classifier using Decision Trees on a sample dataset and print model accuracy.\n",
        "\n",
        "from sklearn.ensemble import BaggingRegressor\n",
        "from sklearn.tree import DecisionTreeRegressor\n",
        "from sklearn.datasets import load_diabetes\n",
        "from sklearn.model_selection import train_test_split\n",
        "from sklearn.metrics import mean_squared_error\n",
        "\n",
        "X, y = load_diabetes(return_X_y=True)\n",
        "X_train, X_test, y_train, y_test = train_test_split(X, y, test_size=0.2, random_state=42)\n",
        "\n",
        "bagging_reg = BaggingRegressor(estimator=DecisionTreeRegressor(), n_estimators=50, random_state=42)\n",
        "bagging_reg.fit(X_train, y_train)\n",
        "y_pred = bagging_reg.predict(X_test)\n",
        "\n",
        "mse = mean_squared_error(y_test, y_pred)\n",
        "print(f\"Mean Squared Error (MSE): {mse:.4f}\")"
      ],
      "metadata": {
        "colab": {
          "base_uri": "https://localhost:8080/"
        },
        "id": "M2ebewbRGRek",
        "outputId": "50a243da-65e2-4ebd-d729-9c8280ec4709"
      },
      "execution_count": 26,
      "outputs": [
        {
          "output_type": "stream",
          "name": "stdout",
          "text": [
            "Mean Squared Error (MSE): 3056.4946\n"
          ]
        }
      ]
    },
    {
      "cell_type": "code",
      "source": [
        "# Q22. Train a Bagging Regressor using Decision Trees and evaluate using Mean Squared Error (MSE).\n",
        "\n",
        "\n",
        "from sklearn.ensemble import BaggingRegressor\n",
        "from sklearn.tree import DecisionTreeRegressor\n",
        "from sklearn.datasets import load_diabetes\n",
        "from sklearn.model_selection import train_test_split\n",
        "from sklearn.metrics import mean_squared_error\n",
        "\n",
        "X, y = load_diabetes(return_X_y=True)\n",
        "X_train, X_test, y_train, y_test = train_test_split(X, y, test_size=0.2, random_state=42)\n",
        "\n",
        "bagging_reg = BaggingRegressor(estimator=DecisionTreeRegressor(), n_estimators=50, random_state=42)\n",
        "bagging_reg.fit(X_train, y_train)\n",
        "y_pred = bagging_reg.predict(X_test)\n",
        "\n",
        "mse = mean_squared_error(y_test, y_pred)\n",
        "print(f\"Mean Squared Error (MSE): {mse:.4f}\")"
      ],
      "metadata": {
        "colab": {
          "base_uri": "https://localhost:8080/"
        },
        "id": "75wDKWCvGh9x",
        "outputId": "d6fe7fbf-114d-4feb-96d7-d7504cf6e4c5"
      },
      "execution_count": 27,
      "outputs": [
        {
          "output_type": "stream",
          "name": "stdout",
          "text": [
            "Mean Squared Error (MSE): 3056.4946\n"
          ]
        }
      ]
    },
    {
      "cell_type": "code",
      "source": [
        "# Q23. Train a Random Forest Classifier on the Breast Cancer dataset and print feature importance scores.\n",
        "\n",
        "from sklearn.ensemble import RandomForestClassifier\n",
        "from sklearn.datasets import load_breast_cancer\n",
        "from sklearn.model_selection import train_test_split\n",
        "import pandas as pd\n",
        "\n",
        "data = load_breast_cancer()\n",
        "X, y = data.data, data.target\n",
        "feature_names = data.feature_names\n",
        "\n",
        "X_train, X_test, y_train, y_test = train_test_split(X, y, test_size=0.2, random_state=42)\n",
        "\n",
        "rf_clf = RandomForestClassifier(n_estimators=100, random_state=42)\n",
        "rf_clf.fit(X_train, y_train)\n",
        "\n",
        "feature_importance = rf_clf.feature_importances_\n",
        "\n",
        "importance_df = pd.DataFrame({'Feature': feature_names, 'Importance': feature_importance})\n",
        "importance_df = importance_df.sort_values(by='Importance', ascending=False)\n",
        "\n",
        "print(importance_df)"
      ],
      "metadata": {
        "colab": {
          "base_uri": "https://localhost:8080/"
        },
        "id": "7vNrKAOJGkkN",
        "outputId": "c962e01e-b051-49de-bf4d-64b47b7b955a"
      },
      "execution_count": 28,
      "outputs": [
        {
          "output_type": "stream",
          "name": "stdout",
          "text": [
            "                    Feature  Importance\n",
            "23               worst area    0.153892\n",
            "27     worst concave points    0.144663\n",
            "7       mean concave points    0.106210\n",
            "20             worst radius    0.077987\n",
            "6            mean concavity    0.068001\n",
            "22          worst perimeter    0.067115\n",
            "2            mean perimeter    0.053270\n",
            "0               mean radius    0.048703\n",
            "3                 mean area    0.047555\n",
            "26          worst concavity    0.031802\n",
            "13               area error    0.022407\n",
            "21            worst texture    0.021749\n",
            "25        worst compactness    0.020266\n",
            "10             radius error    0.020139\n",
            "5          mean compactness    0.013944\n",
            "1              mean texture    0.013591\n",
            "12          perimeter error    0.011303\n",
            "24         worst smoothness    0.010644\n",
            "28           worst symmetry    0.010120\n",
            "16          concavity error    0.009386\n",
            "4           mean smoothness    0.007285\n",
            "19  fractal dimension error    0.005321\n",
            "15        compactness error    0.005253\n",
            "29  worst fractal dimension    0.005210\n",
            "11            texture error    0.004724\n",
            "14         smoothness error    0.004271\n",
            "18           symmetry error    0.004018\n",
            "9    mean fractal dimension    0.003886\n",
            "8             mean symmetry    0.003770\n",
            "17     concave points error    0.003513\n"
          ]
        }
      ]
    },
    {
      "cell_type": "code",
      "source": [
        "# Q24. Train a Random Forest Regressor and compare its performance with a single Decision Tree.\n",
        "\n",
        "from sklearn.ensemble import RandomForestRegressor\n",
        "from sklearn.tree import DecisionTreeRegressor\n",
        "from sklearn.datasets import load_diabetes\n",
        "from sklearn.model_selection import train_test_split\n",
        "from sklearn.metrics import mean_squared_error\n",
        "\n",
        "X, y = load_diabetes(return_X_y=True)\n",
        "X_train, X_test, y_train, y_test = train_test_split(X, y, test_size=0.2, random_state=42)\n",
        "\n",
        "dt_reg = DecisionTreeRegressor(random_state=42)\n",
        "dt_reg.fit(X_train, y_train)\n",
        "y_pred_dt = dt_reg.predict(X_test)\n",
        "mse_dt = mean_squared_error(y_test, y_pred_dt)\n",
        "\n",
        "rf_reg = RandomForestRegressor(n_estimators=100, random_state=42)\n",
        "rf_reg.fit(X_train, y_train)\n",
        "y_pred_rf = rf_reg.predict(X_test)\n",
        "mse_rf = mean_squared_error(y_test, y_pred_rf)\n",
        "\n",
        "print(f\"Decision Tree MSE: {mse_dt:.4f}\")\n",
        "print(f\"Random Forest MSE: {mse_rf:.4f}\")"
      ],
      "metadata": {
        "colab": {
          "base_uri": "https://localhost:8080/"
        },
        "id": "4jcD8yXAGo9E",
        "outputId": "911f137b-9dad-42c6-a172-7f090ac2048a"
      },
      "execution_count": 29,
      "outputs": [
        {
          "output_type": "stream",
          "name": "stdout",
          "text": [
            "Decision Tree MSE: 4976.7978\n",
            "Random Forest MSE: 2952.0106\n"
          ]
        }
      ]
    },
    {
      "cell_type": "code",
      "source": [
        "# Q25. Compute the Out-of-Bag (OOB) Score for a Random Forest Classifier.\n",
        "\n",
        "from sklearn.ensemble import RandomForestClassifier\n",
        "from sklearn.datasets import load_breast_cancer\n",
        "from sklearn.model_selection import train_test_split\n",
        "\n",
        "data = load_breast_cancer()\n",
        "X, y = data.data, data.target\n",
        "\n",
        "X_train, X_test, y_train, y_test = train_test_split(X, y, test_size=0.2, random_state=42)\n",
        "\n",
        "rf_clf = RandomForestClassifier(n_estimators=100, oob_score=True, random_state=42)\n",
        "rf_clf.fit(X_train, y_train)\n",
        "\n",
        "print(f\"Out-of-Bag (OOB) Score: {rf_clf.oob_score_:.4f}\")"
      ],
      "metadata": {
        "colab": {
          "base_uri": "https://localhost:8080/"
        },
        "id": "17VWKv8bGta5",
        "outputId": "9b24a502-18b1-4a02-fac8-2e6ab0c32339"
      },
      "execution_count": 30,
      "outputs": [
        {
          "output_type": "stream",
          "name": "stdout",
          "text": [
            "Out-of-Bag (OOB) Score: 0.9560\n"
          ]
        }
      ]
    },
    {
      "cell_type": "code",
      "source": [
        "# Q26. Train a Bagging Classifier using SVM as a base estimator and print accuracy.\n",
        "\n",
        "from sklearn.ensemble import BaggingClassifier\n",
        "from sklearn.svm import SVC\n",
        "from sklearn.datasets import load_iris\n",
        "from sklearn.model_selection import train_test_split\n",
        "from sklearn.metrics import accuracy_score\n",
        "\n",
        "X, y = load_iris(return_X_y=True)\n",
        "X_train, X_test, y_train, y_test = train_test_split(X, y, test_size=0.2, random_state=42)\n",
        "\n",
        "bagging_clf = BaggingClassifier(estimator=SVC(), n_estimators=50, random_state=42)\n",
        "bagging_clf.fit(X_train, y_train)\n",
        "y_pred = bagging_clf.predict(X_test)\n",
        "\n",
        "accuracy = accuracy_score(y_test, y_pred)\n",
        "print(f\"Bagging Classifier Accuracy: {accuracy:.4f}\")"
      ],
      "metadata": {
        "colab": {
          "base_uri": "https://localhost:8080/"
        },
        "id": "DnrL0iIRGxKS",
        "outputId": "d27f9d30-4dfe-4571-be34-7c27c2cadb70"
      },
      "execution_count": 31,
      "outputs": [
        {
          "output_type": "stream",
          "name": "stdout",
          "text": [
            "Bagging Classifier Accuracy: 1.0000\n"
          ]
        }
      ]
    },
    {
      "cell_type": "code",
      "source": [
        "# Q27. Train a Random Forest Classifier with different numbers of trees and compare accuracy.\n",
        "\n",
        "from sklearn.ensemble import RandomForestClassifier\n",
        "from sklearn.datasets import load_breast_cancer\n",
        "from sklearn.model_selection import train_test_split\n",
        "from sklearn.metrics import accuracy_score\n",
        "\n",
        "data = load_breast_cancer()\n",
        "X, y = data.data, data.target\n",
        "\n",
        "X_train, X_test, y_train, y_test = train_test_split(X, y, test_size=0.2, random_state=42)\n",
        "\n",
        "n_estimators_list = [10, 50, 100, 200, 500]\n",
        "for n in n_estimators_list:\n",
        "    rf_clf = RandomForestClassifier(n_estimators=n, random_state=42)\n",
        "    rf_clf.fit(X_train, y_train)\n",
        "    y_pred = rf_clf.predict(X_test)\n",
        "    accuracy = accuracy_score(y_test, y_pred)\n",
        "    print(f\"n_estimators: {n}, Accuracy: {accuracy:.4f}\")"
      ],
      "metadata": {
        "colab": {
          "base_uri": "https://localhost:8080/"
        },
        "id": "v5VGsg96G0at",
        "outputId": "1a30935b-59f9-404d-9401-98233a43d0fa"
      },
      "execution_count": 32,
      "outputs": [
        {
          "output_type": "stream",
          "name": "stdout",
          "text": [
            "n_estimators: 10, Accuracy: 0.9561\n",
            "n_estimators: 50, Accuracy: 0.9649\n",
            "n_estimators: 100, Accuracy: 0.9649\n",
            "n_estimators: 200, Accuracy: 0.9649\n",
            "n_estimators: 500, Accuracy: 0.9649\n"
          ]
        }
      ]
    },
    {
      "cell_type": "code",
      "source": [
        "# Q28. Train a Bagging Classifier using Logistic Regression as a base estimator and print AUC score.\n",
        "\n",
        "from sklearn.linear_model import LogisticRegression\n",
        "from sklearn.ensemble import BaggingClassifier\n",
        "from sklearn.metrics import roc_auc_score\n",
        "from sklearn.model_selection import train_test_split\n",
        "from sklearn.datasets import make_classification\n",
        "from sklearn.preprocessing import StandardScaler\n",
        "\n",
        "X, y = make_classification(n_samples=1000, n_features=20, random_state=42)\n",
        "X_train, X_test, y_train, y_test = train_test_split(X, y, test_size=0.2, random_state=42)\n",
        "\n",
        "scaler = StandardScaler()\n",
        "X_train_scaled = scaler.fit_transform(X_train)\n",
        "X_test_scaled = scaler.transform(X_test)\n",
        "\n",
        "base_estimator = LogisticRegression(max_iter=500, solver='lbfgs')\n",
        "bagging_clf = BaggingClassifier(estimator=base_estimator, n_estimators=10, random_state=42)  # Fix here\n",
        "bagging_clf.fit(X_train_scaled, y_train)\n",
        "\n",
        "y_pred_proba = bagging_clf.predict_proba(X_test_scaled)[:, 1]\n",
        "auc_score = roc_auc_score(y_test, y_pred_proba)\n",
        "print(\"AUC Score:\", auc_score)"
      ],
      "metadata": {
        "colab": {
          "base_uri": "https://localhost:8080/"
        },
        "id": "fwi-5l6MG3a8",
        "outputId": "f1e5b171-21ec-4c93-fe91-ec7c591ccf05"
      },
      "execution_count": 35,
      "outputs": [
        {
          "output_type": "stream",
          "name": "stdout",
          "text": [
            "AUC Score: 0.9223193648879509\n"
          ]
        }
      ]
    },
    {
      "cell_type": "code",
      "source": [
        "# Q29. Train a Random Forest Regressor and analyze feature importance scores.\n",
        "\n",
        "import numpy as np\n",
        "import matplotlib.pyplot as plt\n",
        "from sklearn.ensemble import RandomForestRegressor\n",
        "from sklearn.model_selection import train_test_split\n",
        "from sklearn.datasets import make_regression\n",
        "\n",
        "X, y = make_regression(n_samples=1000, n_features=10, noise=0.1, random_state=42)\n",
        "X_train, X_test, y_train, y_test = train_test_split(X, y, test_size=0.2, random_state=42)\n",
        "\n",
        "rf_regressor = RandomForestRegressor(n_estimators=100, random_state=42)\n",
        "rf_regressor.fit(X_train, y_train)\n",
        "\n",
        "feature_importances = rf_regressor.feature_importances_\n",
        "sorted_indices = np.argsort(feature_importances)[::-1]\n",
        "\n",
        "plt.figure(figsize=(10, 5))\n",
        "plt.bar(range(X.shape[1]), feature_importances[sorted_indices], align=\"center\")\n",
        "plt.xticks(range(X.shape[1]), sorted_indices)\n",
        "plt.xlabel(\"Feature Index\")\n",
        "plt.ylabel(\"Importance Score\")\n",
        "plt.title(\"Feature Importance in Random Forest Regressor\")\n",
        "plt.show()\n",
        "\n",
        "for idx, importance in zip(sorted_indices, feature_importances[sorted_indices]):\n",
        "    print(f\"Feature {idx}: {importance:.4f}\")"
      ],
      "metadata": {
        "colab": {
          "base_uri": "https://localhost:8080/",
          "height": 661
        },
        "id": "ebTydcDPG6Vc",
        "outputId": "2d295baf-2534-4831-bc23-8beeb70d4278"
      },
      "execution_count": 36,
      "outputs": [
        {
          "output_type": "display_data",
          "data": {
            "text/plain": [
              "<Figure size 1000x500 with 1 Axes>"
            ],
            "image/png": "[encoded data removed]"
          },
          "metadata": {}
        },
        {
          "output_type": "stream",
          "name": "stdout",
          "text": [
            "Feature 3: 0.3343\n",
            "Feature 6: 0.2881\n",
            "Feature 9: 0.2077\n",
            "Feature 2: 0.0400\n",
            "Feature 0: 0.0374\n",
            "Feature 1: 0.0356\n",
            "Feature 5: 0.0148\n",
            "Feature 7: 0.0147\n",
            "Feature 4: 0.0139\n",
            "Feature 8: 0.0136\n"
          ]
        }
      ]
    },
    {
      "cell_type": "code",
      "source": [
        "# Q30. Train an ensemble model using both Bagging and Random Forest and compare accuracy.\n",
        "\n",
        "from sklearn.ensemble import BaggingClassifier, RandomForestClassifier\n",
        "from sklearn.linear_model import LogisticRegression\n",
        "from sklearn.model_selection import train_test_split\n",
        "from sklearn.datasets import make_classification\n",
        "from sklearn.preprocessing import StandardScaler\n",
        "from sklearn.metrics import accuracy_score\n",
        "\n",
        "X, y = make_classification(n_samples=1000, n_features=20, random_state=42)\n",
        "X_train, X_test, y_train, y_test = train_test_split(X, y, test_size=0.2, random_state=42)\n",
        "\n",
        "scaler = StandardScaler()\n",
        "X_train_scaled = scaler.fit_transform(X_train)\n",
        "X_test_scaled = scaler.transform(X_test)\n",
        "\n",
        "bagging_clf = BaggingClassifier(estimator=LogisticRegression(max_iter=500), n_estimators=10, random_state=42)\n",
        "bagging_clf.fit(X_train_scaled, y_train)\n",
        "bagging_acc = accuracy_score(y_test, bagging_clf.predict(X_test_scaled))\n",
        "\n",
        "rf_clf = RandomForestClassifier(n_estimators=100, random_state=42)\n",
        "rf_clf.fit(X_train, y_train)\n",
        "rf_acc = accuracy_score(y_test, rf_clf.predict(X_test))\n",
        "\n",
        "print(f\"Bagging Accuracy: {bagging_acc:.4f}\")\n",
        "print(f\"Random Forest Accuracy: {rf_acc:.4f}\")"
      ],
      "metadata": {
        "colab": {
          "base_uri": "https://localhost:8080/"
        },
        "id": "QXMhdhPEG99L",
        "outputId": "16cdcff7-2424-4391-862e-bd629c3c8bd7"
      },
      "execution_count": 37,
      "outputs": [
        {
          "output_type": "stream",
          "name": "stdout",
          "text": [
            "Bagging Accuracy: 0.8600\n",
            "Random Forest Accuracy: 0.9000\n"
          ]
        }
      ]
    },
    {
      "cell_type": "code",
      "source": [
        "# Q31. Train a Random Forest Classifier and tune hyperparameters using GridSearchCV.\n",
        "\n",
        "from sklearn.ensemble import RandomForestClassifier\n",
        "from sklearn.model_selection import GridSearchCV, train_test_split\n",
        "from sklearn.datasets import make_classification\n",
        "from sklearn.metrics import accuracy_score\n",
        "\n",
        "X, y = make_classification(n_samples=1000, n_features=20, random_state=42)\n",
        "X_train, X_test, y_train, y_test = train_test_split(X, y, test_size=0.2, random_state=42)\n",
        "\n",
        "param_grid = {\n",
        "    'n_estimators': [50, 100, 150],\n",
        "    'max_depth': [None, 10, 20],\n",
        "    'min_samples_split': [2, 5, 10],\n",
        "    'min_samples_leaf': [1, 2, 4]\n",
        "}\n",
        "\n",
        "rf_clf = RandomForestClassifier(random_state=42)\n",
        "grid_search = GridSearchCV(rf_clf, param_grid, cv=5, scoring='accuracy', n_jobs=-1)\n",
        "grid_search.fit(X_train, y_train)\n",
        "\n",
        "best_rf = grid_search.best_estimator_\n",
        "y_pred = best_rf.predict(X_test)\n",
        "accuracy = accuracy_score(y_test, y_pred)\n",
        "\n",
        "print(f\"Best Parameters: {grid_search.best_params_}\")\n",
        "print(f\"Accuracy: {accuracy:.4f}\")"
      ],
      "metadata": {
        "colab": {
          "base_uri": "https://localhost:8080/"
        },
        "id": "jWth9kcvHA0B",
        "outputId": "62393aa5-a1b3-4919-96bb-d171f6b0e8db"
      },
      "execution_count": 39,
      "outputs": [
        {
          "output_type": "stream",
          "name": "stdout",
          "text": [
            "Best Parameters: {'max_depth': 10, 'min_samples_leaf': 2, 'min_samples_split': 5, 'n_estimators': 50}\n",
            "Accuracy: 0.8850\n"
          ]
        }
      ]
    },
    {
      "cell_type": "code",
      "source": [
        "# Q32. Train a Bagging Regressor with different numbers of base estimators and compare performance.\n",
        "\n",
        "from sklearn.ensemble import BaggingRegressor\n",
        "from sklearn.tree import DecisionTreeRegressor\n",
        "from sklearn.model_selection import train_test_split\n",
        "from sklearn.datasets import make_regression\n",
        "from sklearn.metrics import mean_squared_error\n",
        "\n",
        "X, y = make_regression(n_samples=1000, n_features=20, noise=0.1, random_state=42)\n",
        "X_train, X_test, y_train, y_test = train_test_split(X, y, test_size=0.2, random_state=42)\n",
        "\n",
        "estimators = [5, 10, 20, 50, 100]\n",
        "results = {}\n",
        "\n",
        "for n in estimators:\n",
        "    bagging_reg = BaggingRegressor(estimator=DecisionTreeRegressor(), n_estimators=n, random_state=42)\n",
        "    bagging_reg.fit(X_train, y_train)\n",
        "    y_pred = bagging_reg.predict(X_test)\n",
        "    mse = mean_squared_error(y_test, y_pred)\n",
        "    results[n] = mse\n",
        "\n",
        "for n, mse in results.items():\n",
        "    print(f\"Estimators: {n}, MSE: {mse:.4f}\")"
      ],
      "metadata": {
        "colab": {
          "base_uri": "https://localhost:8080/"
        },
        "id": "en6ffWWpHFh7",
        "outputId": "ca871b2d-f422-4491-fd47-f5aa860b9e14"
      },
      "execution_count": 41,
      "outputs": [
        {
          "output_type": "stream",
          "name": "stdout",
          "text": [
            "Estimators: 5, MSE: 9641.3482\n",
            "Estimators: 10, MSE: 7484.1473\n",
            "Estimators: 20, MSE: 7466.6089\n",
            "Estimators: 50, MSE: 7109.3879\n",
            "Estimators: 100, MSE: 6967.8637\n"
          ]
        }
      ]
    },
    {
      "cell_type": "code",
      "source": [
        "# Q33. Train a Random Forest Classifier and analyze misclassified samples.\n",
        "\n",
        "from sklearn.ensemble import RandomForestClassifier\n",
        "from sklearn.model_selection import train_test_split\n",
        "from sklearn.datasets import make_classification\n",
        "from sklearn.metrics import accuracy_score\n",
        "import numpy as np\n",
        "\n",
        "X, y = make_classification(n_samples=1000, n_features=20, random_state=42)\n",
        "X_train, X_test, y_train, y_test = train_test_split(X, y, test_size=0.2, random_state=42)\n",
        "\n",
        "rf_clf = RandomForestClassifier(n_estimators=100, random_state=42)\n",
        "rf_clf.fit(X_train, y_train)\n",
        "\n",
        "y_pred = rf_clf.predict(X_test)\n",
        "accuracy = accuracy_score(y_test, y_pred)\n",
        "\n",
        "misclassified_samples = np.where(y_pred != y_test)[0]\n",
        "\n",
        "print(f\"Accuracy: {accuracy:.4f}\")\n",
        "print(f\"Misclassified Samples: {len(misclassified_samples)}\")\n",
        "print(\"Indices of Misclassified Samples:\", misclassified_samples)"
      ],
      "metadata": {
        "colab": {
          "base_uri": "https://localhost:8080/"
        },
        "id": "ptvBKdwoHIUG",
        "outputId": "5e53588d-5d2b-4cec-c5c3-91a1354d0b76"
      },
      "execution_count": 42,
      "outputs": [
        {
          "output_type": "stream",
          "name": "stdout",
          "text": [
            "Accuracy: 0.9000\n",
            "Misclassified Samples: 20\n",
            "Indices of Misclassified Samples: [  2   8  19  27  30  43  45  57  59  94  99 107 112 127 128 159 163 171\n",
            " 173 184]\n"
          ]
        }
      ]
    },
    {
      "cell_type": "code",
      "source": [
        "# Q34. Train a Bagging Classifier and compare its performance with a single Decision Tree Classifier.\n",
        "\n",
        "from sklearn.ensemble import BaggingClassifier\n",
        "from sklearn.tree import DecisionTreeClassifier\n",
        "from sklearn.model_selection import train_test_split\n",
        "from sklearn.datasets import make_classification\n",
        "from sklearn.metrics import accuracy_score\n",
        "\n",
        "X, y = make_classification(n_samples=1000, n_features=20, random_state=42)\n",
        "X_train, X_test, y_train, y_test = train_test_split(X, y, test_size=0.2, random_state=42)\n",
        "\n",
        "dt_clf = DecisionTreeClassifier(random_state=42)\n",
        "dt_clf.fit(X_train, y_train)\n",
        "y_pred_dt = dt_clf.predict(X_test)\n",
        "accuracy_dt = accuracy_score(y_test, y_pred_dt)\n",
        "\n",
        "bagging_clf = BaggingClassifier(estimator=DecisionTreeClassifier(), n_estimators=10, random_state=42)\n",
        "bagging_clf.fit(X_train, y_train)\n",
        "y_pred_bagging = bagging_clf.predict(X_test)\n",
        "accuracy_bagging = accuracy_score(y_test, y_pred_bagging)\n",
        "\n",
        "print(f\"Decision Tree Accuracy: {accuracy_dt:.4f}\")\n",
        "print(f\"Bagging Classifier Accuracy: {accuracy_bagging:.4f}\")"
      ],
      "metadata": {
        "colab": {
          "base_uri": "https://localhost:8080/"
        },
        "id": "xWxvGpldHLOc",
        "outputId": "f8e22469-e046-428b-f472-daca2ac79938"
      },
      "execution_count": 43,
      "outputs": [
        {
          "output_type": "stream",
          "name": "stdout",
          "text": [
            "Decision Tree Accuracy: 0.8750\n",
            "Bagging Classifier Accuracy: 0.8850\n"
          ]
        }
      ]
    },
    {
      "cell_type": "code",
      "source": [
        "# Q35. Train a Random Forest Classifier and visualize the confusion matrix.\n",
        "\n",
        "import matplotlib.pyplot as plt\n",
        "import seaborn as sns\n",
        "from sklearn.ensemble import RandomForestClassifier\n",
        "from sklearn.model_selection import train_test_split\n",
        "from sklearn.datasets import make_classification\n",
        "from sklearn.metrics import confusion_matrix\n",
        "\n",
        "X, y = make_classification(n_samples=1000, n_features=20, random_state=42)\n",
        "X_train, X_test, y_train, y_test = train_test_split(X, y, test_size=0.2, random_state=42)\n",
        "\n",
        "rf_clf = RandomForestClassifier(n_estimators=100, random_state=42)\n",
        "rf_clf.fit(X_train, y_train)\n",
        "y_pred = rf_clf.predict(X_test)\n",
        "\n",
        "cm = confusion_matrix(y_test, y_pred)\n",
        "\n",
        "plt.figure(figsize=(6, 5))\n",
        "sns.heatmap(cm, annot=True, fmt='d', cmap='Blues', xticklabels=[\"Class 0\", \"Class 1\"], yticklabels=[\"Class 0\", \"Class 1\"])\n",
        "plt.xlabel(\"Predicted Label\")\n",
        "plt.ylabel(\"True Label\")\n",
        "plt.title(\"Confusion Matrix\")\n",
        "plt.show()"
      ],
      "metadata": {
        "colab": {
          "base_uri": "https://localhost:8080/",
          "height": 487
        },
        "id": "KzCSnvynHNm5",
        "outputId": "b033004f-f304-4c9f-c6ef-f6fcfd4674a5"
      },
      "execution_count": 44,
      "outputs": [
        {
          "output_type": "display_data",
          "data": {
            "text/plain": [
              "<Figure size 600x500 with 2 Axes>"
            ],
            "image/png": "[encoded data removed]"
          },
          "metadata": {}
        }
      ]
    },
    {
      "cell_type": "code",
      "source": [
        "# Q36. Train a Stacking Classifier using Decision Trees, SVM, and Logistic Regression, and compare accuracy.\n",
        "\n",
        "from sklearn.ensemble import StackingClassifier\n",
        "from sklearn.linear_model import LogisticRegression\n",
        "from sklearn.svm import SVC\n",
        "from sklearn.tree import DecisionTreeClassifier\n",
        "from sklearn.model_selection import train_test_split\n",
        "from sklearn.datasets import make_classification\n",
        "from sklearn.metrics import accuracy_score\n",
        "\n",
        "X, y = make_classification(n_samples=1000, n_features=20, random_state=42)\n",
        "X_train, X_test, y_train, y_test = train_test_split(X, y, test_size=0.2, random_state=42)\n",
        "\n",
        "base_learners = [\n",
        "    ('decision_tree', DecisionTreeClassifier(random_state=42)),\n",
        "    ('svm', SVC(probability=True, random_state=42))\n",
        "]\n",
        "\n",
        "meta_learner = LogisticRegression()\n",
        "\n",
        "stacking_clf = StackingClassifier(estimators=base_learners, final_estimator=meta_learner)\n",
        "stacking_clf.fit(X_train, y_train)\n",
        "y_pred = stacking_clf.predict(X_test)\n",
        "\n",
        "accuracy = accuracy_score(y_test, y_pred)\n",
        "print(\"Stacking Classifier Accuracy:\", accuracy)"
      ],
      "metadata": {
        "colab": {
          "base_uri": "https://localhost:8080/"
        },
        "id": "7dL0EpBoHQPR",
        "outputId": "ae48f45a-cfbd-49f0-99a3-ed1c391ac290"
      },
      "execution_count": 45,
      "outputs": [
        {
          "output_type": "stream",
          "name": "stdout",
          "text": [
            "Stacking Classifier Accuracy: 0.88\n"
          ]
        }
      ]
    },
    {
      "cell_type": "code",
      "source": [
        "# Q37. Train a Random Forest Classifier and print the top 5 most important features.\n",
        "\n",
        "from sklearn.ensemble import RandomForestClassifier\n",
        "from sklearn.model_selection import train_test_split\n",
        "from sklearn.datasets import make_classification\n",
        "import numpy as np\n",
        "\n",
        "X, y = make_classification(n_samples=1000, n_features=20, random_state=42)\n",
        "X_train, X_test, y_train, y_test = train_test_split(X, y, test_size=0.2, random_state=42)\n",
        "\n",
        "rf_clf = RandomForestClassifier(n_estimators=100, random_state=42)\n",
        "rf_clf.fit(X_train, y_train)\n",
        "\n",
        "feature_importances = rf_clf.feature_importances_\n",
        "top_features = np.argsort(feature_importances)[-5:][::-1]\n",
        "\n",
        "print(\"Top 5 most important features:\")\n",
        "for i in top_features:\n",
        "    print(f\"Feature {i}, Importance: {feature_importances[i]:.4f}\")"
      ],
      "metadata": {
        "colab": {
          "base_uri": "https://localhost:8080/"
        },
        "id": "Vmd73UxHHTSC",
        "outputId": "902dccc1-8759-4cef-a3cd-1a4344d2764b"
      },
      "execution_count": 46,
      "outputs": [
        {
          "output_type": "stream",
          "name": "stdout",
          "text": [
            "Top 5 most important features:\n",
            "Feature 5, Importance: 0.3631\n",
            "Feature 18, Importance: 0.1773\n",
            "Feature 1, Importance: 0.1018\n",
            "Feature 14, Importance: 0.0756\n",
            "Feature 11, Importance: 0.0257\n"
          ]
        }
      ]
    },
    {
      "cell_type": "code",
      "source": [
        "# Q38. Train a Bagging Classifier and evaluate performance using Precision, Recall, and F1-score.\n",
        "\n",
        "from sklearn.ensemble import BaggingClassifier\n",
        "from sklearn.tree import DecisionTreeClassifier\n",
        "from sklearn.model_selection import train_test_split\n",
        "from sklearn.datasets import make_classification\n",
        "from sklearn.metrics import precision_score, recall_score, f1_score\n",
        "\n",
        "X, y = make_classification(n_samples=1000, n_features=20, random_state=42)\n",
        "X_train, X_test, y_train, y_test = train_test_split(X, y, test_size=0.2, random_state=42)\n",
        "\n",
        "bagging_clf = BaggingClassifier(estimator=DecisionTreeClassifier(), n_estimators=50, random_state=42)\n",
        "bagging_clf.fit(X_train, y_train)\n",
        "\n",
        "y_pred = bagging_clf.predict(X_test)\n",
        "\n",
        "precision = precision_score(y_test, y_pred)\n",
        "recall = recall_score(y_test, y_pred)\n",
        "f1 = f1_score(y_test, y_pred)\n",
        "\n",
        "print(f\"Precision: {precision:.4f}\")\n",
        "print(f\"Recall: {recall:.4f}\")\n",
        "print(f\"F1-score: {f1:.4f}\")"
      ],
      "metadata": {
        "colab": {
          "base_uri": "https://localhost:8080/"
        },
        "id": "2U28hVGoHVrh",
        "outputId": "31ec0bc5-1f30-4bbc-fce2-32de6b467000"
      },
      "execution_count": 47,
      "outputs": [
        {
          "output_type": "stream",
          "name": "stdout",
          "text": [
            "Precision: 0.9468\n",
            "Recall: 0.8318\n",
            "F1-score: 0.8856\n"
          ]
        }
      ]
    },
    {
      "cell_type": "code",
      "source": [
        "# Q39. Train a Random Forest Classifier and analyze the effect of max_depth on accuracy.\n",
        "\n",
        "from sklearn.ensemble import RandomForestClassifier\n",
        "from sklearn.model_selection import train_test_split\n",
        "from sklearn.datasets import make_classification\n",
        "from sklearn.metrics import accuracy_score\n",
        "\n",
        "X, y = make_classification(n_samples=1000, n_features=20, random_state=42)\n",
        "X_train, X_test, y_train, y_test = train_test_split(X, y, test_size=0.2, random_state=42)\n",
        "\n",
        "depths = [2, 5, 10, 20, None]\n",
        "results = {}\n",
        "\n",
        "for depth in depths:\n",
        "    rf_clf = RandomForestClassifier(max_depth=depth, n_estimators=50, random_state=42)\n",
        "    rf_clf.fit(X_train, y_train)\n",
        "    y_pred = rf_clf.predict(X_test)\n",
        "    acc = accuracy_score(y_test, y_pred)\n",
        "    results[depth] = acc\n",
        "\n",
        "for depth, acc in results.items():\n",
        "    print(f\"Max Depth: {depth}, Accuracy: {acc:.4f}\")"
      ],
      "metadata": {
        "colab": {
          "base_uri": "https://localhost:8080/"
        },
        "id": "hvobJaXHHX5m",
        "outputId": "9ba424a3-0cdf-4c73-b0d0-d5204e30e5cf"
      },
      "execution_count": 48,
      "outputs": [
        {
          "output_type": "stream",
          "name": "stdout",
          "text": [
            "Max Depth: 2, Accuracy: 0.8600\n",
            "Max Depth: 5, Accuracy: 0.8700\n",
            "Max Depth: 10, Accuracy: 0.8850\n",
            "Max Depth: 20, Accuracy: 0.8800\n",
            "Max Depth: None, Accuracy: 0.8800\n"
          ]
        }
      ]
    },
    {
      "cell_type": "code",
      "source": [
        "# Q40. Train a Bagging Regressor using different base estimators (DecisionTree and KNeighbors) and compare performance.\n",
        "\n",
        "from sklearn.ensemble import BaggingRegressor\n",
        "from sklearn.tree import DecisionTreeRegressor\n",
        "from sklearn.neighbors import KNeighborsRegressor\n",
        "from sklearn.model_selection import train_test_split\n",
        "from sklearn.datasets import make_regression\n",
        "from sklearn.metrics import mean_squared_error\n",
        "\n",
        "X, y = make_regression(n_samples=1000, n_features=20, noise=0.1, random_state=42)\n",
        "X_train, X_test, y_train, y_test = train_test_split(X, y, test_size=0.2, random_state=42)\n",
        "\n",
        "estimators = {\n",
        "    \"DecisionTree\": DecisionTreeRegressor(),\n",
        "    \"KNeighbors\": KNeighborsRegressor()\n",
        "}\n",
        "\n",
        "results = {}\n",
        "\n",
        "for name, estimator in estimators.items():\n",
        "    bagging_reg = BaggingRegressor(estimator, n_estimators=50, random_state=42)\n",
        "    bagging_reg.fit(X_train, y_train)\n",
        "    y_pred = bagging_reg.predict(X_test)\n",
        "    mse = mean_squared_error(y_test, y_pred)\n",
        "    results[name] = mse\n",
        "\n",
        "for name, mse in results.items():\n",
        "    print(f\"Base Estimator: {name}, MSE: {mse:.4f}\")"
      ],
      "metadata": {
        "colab": {
          "base_uri": "https://localhost:8080/"
        },
        "id": "O-YDogzoHafG",
        "outputId": "ee9170c9-083f-465e-c415-0bf814da2c56"
      },
      "execution_count": 49,
      "outputs": [
        {
          "output_type": "stream",
          "name": "stdout",
          "text": [
            "Base Estimator: DecisionTree, MSE: 7109.3879\n",
            "Base Estimator: KNeighbors, MSE: 14362.1458\n"
          ]
        }
      ]
    },
    {
      "cell_type": "code",
      "source": [
        "# Q41. Train a Random Forest Classifier and evaluate its performance using ROC-AUC Score.\n",
        "\n",
        "from sklearn.ensemble import RandomForestClassifier\n",
        "from sklearn.metrics import roc_auc_score\n",
        "from sklearn.model_selection import train_test_split\n",
        "from sklearn.datasets import make_classification\n",
        "\n",
        "X, y = make_classification(n_samples=1000, n_features=20, random_state=42)\n",
        "X_train, X_test, y_train, y_test = train_test_split(X, y, test_size=0.2, random_state=42)\n",
        "\n",
        "rf_clf = RandomForestClassifier(n_estimators=100, random_state=42)\n",
        "rf_clf.fit(X_train, y_train)\n",
        "\n",
        "y_pred_proba = rf_clf.predict_proba(X_test)[:, 1]\n",
        "auc_score = roc_auc_score(y_test, y_pred_proba)\n",
        "\n",
        "print(\"ROC-AUC Score:\", auc_score)"
      ],
      "metadata": {
        "colab": {
          "base_uri": "https://localhost:8080/"
        },
        "id": "oJ3ONYHBHeh7",
        "outputId": "88ac2b0a-494e-4279-80b3-27235930b773"
      },
      "execution_count": 50,
      "outputs": [
        {
          "output_type": "stream",
          "name": "stdout",
          "text": [
            "ROC-AUC Score: 0.9379459350819013\n"
          ]
        }
      ]
    },
    {
      "cell_type": "code",
      "source": [
        "# Q42. Train a Bagging Classifier and evaluate its performance using cross-validation.\n",
        "\n",
        "from sklearn.ensemble import BaggingClassifier\n",
        "from sklearn.tree import DecisionTreeClassifier\n",
        "from sklearn.model_selection import cross_val_score\n",
        "from sklearn.datasets import make_classification\n",
        "\n",
        "X, y = make_classification(n_samples=1000, n_features=20, random_state=42)\n",
        "\n",
        "bagging_clf = BaggingClassifier(estimator=DecisionTreeClassifier(), n_estimators=50, random_state=42)\n",
        "\n",
        "cv_scores = cross_val_score(bagging_clf, X, y, cv=5, scoring='accuracy')\n",
        "\n",
        "print(\"Cross-Validation Accuracy Scores:\", cv_scores)\n",
        "print(\"Mean Accuracy:\", cv_scores.mean())"
      ],
      "metadata": {
        "colab": {
          "base_uri": "https://localhost:8080/"
        },
        "id": "sa9ZsgVaHho3",
        "outputId": "343d0091-368e-4ae0-c2d6-52e2f9dd469f"
      },
      "execution_count": 51,
      "outputs": [
        {
          "output_type": "stream",
          "name": "stdout",
          "text": [
            "Cross-Validation Accuracy Scores: [0.94  0.905 0.9   0.92  0.885]\n",
            "Mean Accuracy: 0.9099999999999999\n"
          ]
        }
      ]
    },
    {
      "cell_type": "code",
      "source": [
        "# Q43. Train a Random Forest Classifier and plot the Precision-Recall curve.\n",
        "\n",
        "import matplotlib.pyplot as plt\n",
        "from sklearn.ensemble import RandomForestClassifier\n",
        "from sklearn.model_selection import train_test_split\n",
        "from sklearn.metrics import precision_recall_curve, auc\n",
        "from sklearn.datasets import make_classification\n",
        "\n",
        "X, y = make_classification(n_samples=1000, n_features=20, random_state=42)\n",
        "\n",
        "X_train, X_test, y_train, y_test = train_test_split(X, y, test_size=0.2, random_state=42)\n",
        "\n",
        "rf_clf = RandomForestClassifier(n_estimators=100, random_state=42)\n",
        "rf_clf.fit(X_train, y_train)\n",
        "\n",
        "y_scores = rf_clf.predict_proba(X_test)[:, 1]\n",
        "\n",
        "precision, recall, _ = precision_recall_curve(y_test, y_scores)\n",
        "pr_auc = auc(recall, precision)\n",
        "\n",
        "plt.figure(figsize=(8, 6))\n",
        "plt.plot(recall, precision, marker='.', label=f'Random Forest (AUC={pr_auc:.2f})')\n",
        "plt.xlabel('Recall')\n",
        "plt.ylabel('Precision')\n",
        "plt.title('Precision-Recall Curve')\n",
        "plt.legend()\n",
        "plt.grid()\n",
        "plt.show()"
      ],
      "metadata": {
        "colab": {
          "base_uri": "https://localhost:8080/",
          "height": 564
        },
        "id": "uhMEKvuNHkVW",
        "outputId": "3f0eb42d-1e5d-4745-ef5a-729c29c8b0f7"
      },
      "execution_count": 52,
      "outputs": [
        {
          "output_type": "display_data",
          "data": {
            "text/plain": [
              "<Figure size 800x600 with 1 Axes>"
            ],
            "image/png": "[encoded data removed]"
          },
          "metadata": {}
        }
      ]
    },
    {
      "cell_type": "code",
      "source": [
        "# Q44. Train a Stacking Classifier with Random Forest and Logistic Regression and compare accuracy.\n",
        "\n",
        "from sklearn.ensemble import StackingClassifier, RandomForestClassifier\n",
        "from sklearn.linear_model import LogisticRegression\n",
        "from sklearn.svm import SVC\n",
        "from sklearn.model_selection import train_test_split\n",
        "from sklearn.datasets import make_classification\n",
        "from sklearn.metrics import accuracy_score\n",
        "\n",
        "X, y = make_classification(n_samples=1000, n_features=20, random_state=42)\n",
        "\n",
        "X_train, X_test, y_train, y_test = train_test_split(X, y, test_size=0.2, random_state=42)\n",
        "\n",
        "base_estimators = [\n",
        "    ('rf', RandomForestClassifier(n_estimators=100, random_state=42)),\n",
        "    ('svc', SVC(probability=True, random_state=42))\n",
        "]\n",
        "\n",
        "stack_clf = StackingClassifier(estimators=base_estimators, final_estimator=LogisticRegression())\n",
        "\n",
        "stack_clf.fit(X_train, y_train)\n",
        "\n",
        "y_pred = stack_clf.predict(X_test)\n",
        "accuracy = accuracy_score(y_test, y_pred)\n",
        "\n",
        "print(f\"Stacking Classifier Accuracy: {accuracy:.4f}\")"
      ],
      "metadata": {
        "colab": {
          "base_uri": "https://localhost:8080/"
        },
        "id": "GI96734wHnV-",
        "outputId": "b06e593d-3082-4d57-d3ef-6aefb1cac00d"
      },
      "execution_count": 53,
      "outputs": [
        {
          "output_type": "stream",
          "name": "stdout",
          "text": [
            "Stacking Classifier Accuracy: 0.8950\n"
          ]
        }
      ]
    },
    {
      "cell_type": "code",
      "source": [
        "# Q45. Train a Bagging Regressor with different levels of bootstrap samples and compare performance.\n",
        "\n",
        "from sklearn.ensemble import BaggingRegressor\n",
        "from sklearn.tree import DecisionTreeRegressor\n",
        "from sklearn.model_selection import train_test_split\n",
        "from sklearn.datasets import make_regression\n",
        "from sklearn.metrics import mean_squared_error\n",
        "\n",
        "X, y = make_regression(n_samples=1000, n_features=20, noise=0.1, random_state=42)\n",
        "X_train, X_test, y_train, y_test = train_test_split(X, y, test_size=0.2, random_state=42)\n",
        "\n",
        "bootstrap_levels = [True, False]\n",
        "results = {}\n",
        "\n",
        "for bootstrap in bootstrap_levels:\n",
        "    bagging_reg = BaggingRegressor(DecisionTreeRegressor(), n_estimators=50, bootstrap=bootstrap, random_state=42)\n",
        "    bagging_reg.fit(X_train, y_train)\n",
        "    y_pred = bagging_reg.predict(X_test)\n",
        "    mse = mean_squared_error(y_test, y_pred)\n",
        "    results[bootstrap] = mse\n",
        "\n",
        "for bootstrap, mse in results.items():\n",
        "    print(f\"Bootstrap: {bootstrap}, MSE: {mse:.4f}\")"
      ],
      "metadata": {
        "colab": {
          "base_uri": "https://localhost:8080/"
        },
        "id": "MRVW_qRRHr14",
        "outputId": "711ed678-b1e6-487d-b4d1-42f792b96d4a"
      },
      "execution_count": 54,
      "outputs": [
        {
          "output_type": "stream",
          "name": "stdout",
          "text": [
            "Bootstrap: True, MSE: 7109.3879\n",
            "Bootstrap: False, MSE: 17387.9080\n"
          ]
        }
      ]
    },
    {
      "cell_type": "markdown",
      "source": [
        "# **Thank You Sir/Ma'am**\n",
        "**Yours Sincerely, Darshan Panchal**"
      ],
      "metadata": {
        "id": "HmD49_41PRis"
      }
    }
  ]
}